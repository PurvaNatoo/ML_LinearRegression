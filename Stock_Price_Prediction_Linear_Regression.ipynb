{
  "nbformat": 4,
  "nbformat_minor": 0,
  "metadata": {
    "colab": {
      "name": "Stock Price Live Prediction - Linear Regression.ipynb",
      "provenance": [],
      "collapsed_sections": []
    },
    "kernelspec": {
      "name": "python3",
      "display_name": "Python 3"
    },
    "language_info": {
      "name": "python"
    }
  },
  "cells": [
    {
      "cell_type": "markdown",
      "source": [
        "##Stock Price Prediction\n",
        "\n",
        "\n",
        "\n",
        "*   Project By: Purva Natoo\n",
        "*   Model used: Linear Regression\n",
        "*   API used for data: Yahoo Finance\n",
        "\n"
      ],
      "metadata": {
        "id": "dfhkjBW9ZI5V"
      }
    },
    {
      "cell_type": "markdown",
      "source": [
        "Getting necessary imports"
      ],
      "metadata": {
        "id": "z07WunY17gci"
      }
    },
    {
      "cell_type": "code",
      "source": [
        "from sklearn.model_selection import train_test_split\n",
        "from sklearn.linear_model import LinearRegression\n",
        "import numpy as np\n",
        "import pandas as pd\n",
        "import matplotlib.pyplot as plt\n",
        "import pickle\n",
        "import os\n",
        "from datetime import datetime"
      ],
      "metadata": {
        "id": "7UHmzdJZ7mdq"
      },
      "execution_count": 11,
      "outputs": []
    },
    {
      "cell_type": "code",
      "source": [
        "!pip install requests_html"
      ],
      "metadata": {
        "id": "5qR334-eA_BX"
      },
      "execution_count": null,
      "outputs": []
    },
    {
      "cell_type": "code",
      "source": [
        "!pip install yahoo_fin\n",
        "from yahoo_fin.stock_info import get_data"
      ],
      "metadata": {
        "id": "UpPo9gDBAqL5"
      },
      "execution_count": null,
      "outputs": []
    },
    {
      "cell_type": "markdown",
      "source": [
        "Get stock ticker name from user"
      ],
      "metadata": {
        "id": "AvLco0DBMg91"
      }
    },
    {
      "cell_type": "code",
      "source": [
        "ticker = input(\"Enter the stock ticker name (Enter 'none' for default): \")\n",
        "if ticker=='none':\n",
        "  ticker = 'amzn'"
      ],
      "metadata": {
        "colab": {
          "base_uri": "https://localhost:8080/"
        },
        "id": "vHDobFL-JEUu",
        "outputId": "9282dcbf-a7dc-4029-e6e4-20d3bf71961f"
      },
      "execution_count": 14,
      "outputs": [
        {
          "name": "stdout",
          "output_type": "stream",
          "text": [
            "Enter the stock ticker name (Enter 'none' for default): amzn\n"
          ]
        }
      ]
    },
    {
      "cell_type": "markdown",
      "source": [
        "Get start date of dataset from user"
      ],
      "metadata": {
        "id": "LKbEjActRoqJ"
      }
    },
    {
      "cell_type": "code",
      "source": [
        "startYear = input(\"Enter the start year to be considered for the dataset(Enter 'none' for default):\")\n",
        "if startYear=='none':\n",
        "  startYear = '2015'\n",
        "startDate = '01/01/' + startYear"
      ],
      "metadata": {
        "colab": {
          "base_uri": "https://localhost:8080/"
        },
        "id": "B99MU19rRxSn",
        "outputId": "6c762d2c-36f3-4af1-a594-7c06fd22908b"
      },
      "execution_count": 15,
      "outputs": [
        {
          "name": "stdout",
          "output_type": "stream",
          "text": [
            "Enter the start year to be considered for the dataset(Enter 'none' for default):2015\n"
          ]
        }
      ]
    },
    {
      "cell_type": "markdown",
      "source": [
        "Get historic data for the stock using yahoo_fin"
      ],
      "metadata": {
        "id": "spTe5nRxMnRZ"
      }
    },
    {
      "cell_type": "code",
      "source": [
        "stock_data = get_data(ticker, start_date=startDate, end_date=datetime.today().strftime('%m/%d/%Y'), index_as_date = True, interval=\"1d\")\n",
        "dates = list(range(0,int(len(stock_data))))\n",
        "prices = stock_data['close']\n",
        "stock_data"
      ],
      "metadata": {
        "colab": {
          "base_uri": "https://localhost:8080/",
          "height": 423
        },
        "id": "m-kyt4G7Bvvg",
        "outputId": "fc73afde-f2d8-497c-fda7-99737b29f58f"
      },
      "execution_count": 16,
      "outputs": [
        {
          "output_type": "execute_result",
          "data": {
            "text/html": [
              "\n",
              "  <div id=\"df-d94eaa86-7d7e-4158-aead-46f614baa796\">\n",
              "    <div class=\"colab-df-container\">\n",
              "      <div>\n",
              "<style scoped>\n",
              "    .dataframe tbody tr th:only-of-type {\n",
              "        vertical-align: middle;\n",
              "    }\n",
              "\n",
              "    .dataframe tbody tr th {\n",
              "        vertical-align: top;\n",
              "    }\n",
              "\n",
              "    .dataframe thead th {\n",
              "        text-align: right;\n",
              "    }\n",
              "</style>\n",
              "<table border=\"1\" class=\"dataframe\">\n",
              "  <thead>\n",
              "    <tr style=\"text-align: right;\">\n",
              "      <th></th>\n",
              "      <th>open</th>\n",
              "      <th>high</th>\n",
              "      <th>low</th>\n",
              "      <th>close</th>\n",
              "      <th>adjclose</th>\n",
              "      <th>volume</th>\n",
              "      <th>ticker</th>\n",
              "    </tr>\n",
              "  </thead>\n",
              "  <tbody>\n",
              "    <tr>\n",
              "      <th>2015-01-02</th>\n",
              "      <td>312.579987</td>\n",
              "      <td>314.750000</td>\n",
              "      <td>306.959991</td>\n",
              "      <td>308.519989</td>\n",
              "      <td>308.519989</td>\n",
              "      <td>2783200</td>\n",
              "      <td>AMZN</td>\n",
              "    </tr>\n",
              "    <tr>\n",
              "      <th>2015-01-05</th>\n",
              "      <td>307.010010</td>\n",
              "      <td>308.380005</td>\n",
              "      <td>300.850006</td>\n",
              "      <td>302.190002</td>\n",
              "      <td>302.190002</td>\n",
              "      <td>2774200</td>\n",
              "      <td>AMZN</td>\n",
              "    </tr>\n",
              "    <tr>\n",
              "      <th>2015-01-06</th>\n",
              "      <td>302.239990</td>\n",
              "      <td>303.000000</td>\n",
              "      <td>292.380005</td>\n",
              "      <td>295.290009</td>\n",
              "      <td>295.290009</td>\n",
              "      <td>3519000</td>\n",
              "      <td>AMZN</td>\n",
              "    </tr>\n",
              "    <tr>\n",
              "      <th>2015-01-07</th>\n",
              "      <td>297.500000</td>\n",
              "      <td>301.279999</td>\n",
              "      <td>295.329987</td>\n",
              "      <td>298.420013</td>\n",
              "      <td>298.420013</td>\n",
              "      <td>2640300</td>\n",
              "      <td>AMZN</td>\n",
              "    </tr>\n",
              "    <tr>\n",
              "      <th>2015-01-08</th>\n",
              "      <td>300.320007</td>\n",
              "      <td>303.140015</td>\n",
              "      <td>296.109985</td>\n",
              "      <td>300.459991</td>\n",
              "      <td>300.459991</td>\n",
              "      <td>3088400</td>\n",
              "      <td>AMZN</td>\n",
              "    </tr>\n",
              "    <tr>\n",
              "      <th>...</th>\n",
              "      <td>...</td>\n",
              "      <td>...</td>\n",
              "      <td>...</td>\n",
              "      <td>...</td>\n",
              "      <td>...</td>\n",
              "      <td>...</td>\n",
              "      <td>...</td>\n",
              "    </tr>\n",
              "    <tr>\n",
              "      <th>2021-12-31</th>\n",
              "      <td>3379.120117</td>\n",
              "      <td>3387.000000</td>\n",
              "      <td>3331.169922</td>\n",
              "      <td>3334.340088</td>\n",
              "      <td>3334.340088</td>\n",
              "      <td>2387300</td>\n",
              "      <td>AMZN</td>\n",
              "    </tr>\n",
              "    <tr>\n",
              "      <th>2022-01-03</th>\n",
              "      <td>3351.000000</td>\n",
              "      <td>3414.070068</td>\n",
              "      <td>3323.209961</td>\n",
              "      <td>3408.090088</td>\n",
              "      <td>3408.090088</td>\n",
              "      <td>3176000</td>\n",
              "      <td>AMZN</td>\n",
              "    </tr>\n",
              "    <tr>\n",
              "      <th>2022-01-04</th>\n",
              "      <td>3408.760010</td>\n",
              "      <td>3428.000000</td>\n",
              "      <td>3326.989990</td>\n",
              "      <td>3350.439941</td>\n",
              "      <td>3350.439941</td>\n",
              "      <td>3536300</td>\n",
              "      <td>AMZN</td>\n",
              "    </tr>\n",
              "    <tr>\n",
              "      <th>2022-01-05</th>\n",
              "      <td>3337.659912</td>\n",
              "      <td>3342.530029</td>\n",
              "      <td>3287.139893</td>\n",
              "      <td>3287.139893</td>\n",
              "      <td>3287.139893</td>\n",
              "      <td>3215100</td>\n",
              "      <td>AMZN</td>\n",
              "    </tr>\n",
              "    <tr>\n",
              "      <th>2022-01-06</th>\n",
              "      <td>3269.010010</td>\n",
              "      <td>3296.000000</td>\n",
              "      <td>3238.739990</td>\n",
              "      <td>3265.080078</td>\n",
              "      <td>3265.080078</td>\n",
              "      <td>2597900</td>\n",
              "      <td>AMZN</td>\n",
              "    </tr>\n",
              "  </tbody>\n",
              "</table>\n",
              "<p>1767 rows × 7 columns</p>\n",
              "</div>\n",
              "      <button class=\"colab-df-convert\" onclick=\"convertToInteractive('df-d94eaa86-7d7e-4158-aead-46f614baa796')\"\n",
              "              title=\"Convert this dataframe to an interactive table.\"\n",
              "              style=\"display:none;\">\n",
              "        \n",
              "  <svg xmlns=\"http://www.w3.org/2000/svg\" height=\"24px\"viewBox=\"0 0 24 24\"\n",
              "       width=\"24px\">\n",
              "    <path d=\"M0 0h24v24H0V0z\" fill=\"none\"/>\n",
              "    <path d=\"M18.56 5.44l.94 2.06.94-2.06 2.06-.94-2.06-.94-.94-2.06-.94 2.06-2.06.94zm-11 1L8.5 8.5l.94-2.06 2.06-.94-2.06-.94L8.5 2.5l-.94 2.06-2.06.94zm10 10l.94 2.06.94-2.06 2.06-.94-2.06-.94-.94-2.06-.94 2.06-2.06.94z\"/><path d=\"M17.41 7.96l-1.37-1.37c-.4-.4-.92-.59-1.43-.59-.52 0-1.04.2-1.43.59L10.3 9.45l-7.72 7.72c-.78.78-.78 2.05 0 2.83L4 21.41c.39.39.9.59 1.41.59.51 0 1.02-.2 1.41-.59l7.78-7.78 2.81-2.81c.8-.78.8-2.07 0-2.86zM5.41 20L4 18.59l7.72-7.72 1.47 1.35L5.41 20z\"/>\n",
              "  </svg>\n",
              "      </button>\n",
              "      \n",
              "  <style>\n",
              "    .colab-df-container {\n",
              "      display:flex;\n",
              "      flex-wrap:wrap;\n",
              "      gap: 12px;\n",
              "    }\n",
              "\n",
              "    .colab-df-convert {\n",
              "      background-color: #E8F0FE;\n",
              "      border: none;\n",
              "      border-radius: 50%;\n",
              "      cursor: pointer;\n",
              "      display: none;\n",
              "      fill: #1967D2;\n",
              "      height: 32px;\n",
              "      padding: 0 0 0 0;\n",
              "      width: 32px;\n",
              "    }\n",
              "\n",
              "    .colab-df-convert:hover {\n",
              "      background-color: #E2EBFA;\n",
              "      box-shadow: 0px 1px 2px rgba(60, 64, 67, 0.3), 0px 1px 3px 1px rgba(60, 64, 67, 0.15);\n",
              "      fill: #174EA6;\n",
              "    }\n",
              "\n",
              "    [theme=dark] .colab-df-convert {\n",
              "      background-color: #3B4455;\n",
              "      fill: #D2E3FC;\n",
              "    }\n",
              "\n",
              "    [theme=dark] .colab-df-convert:hover {\n",
              "      background-color: #434B5C;\n",
              "      box-shadow: 0px 1px 3px 1px rgba(0, 0, 0, 0.15);\n",
              "      filter: drop-shadow(0px 1px 2px rgba(0, 0, 0, 0.3));\n",
              "      fill: #FFFFFF;\n",
              "    }\n",
              "  </style>\n",
              "\n",
              "      <script>\n",
              "        const buttonEl =\n",
              "          document.querySelector('#df-d94eaa86-7d7e-4158-aead-46f614baa796 button.colab-df-convert');\n",
              "        buttonEl.style.display =\n",
              "          google.colab.kernel.accessAllowed ? 'block' : 'none';\n",
              "\n",
              "        async function convertToInteractive(key) {\n",
              "          const element = document.querySelector('#df-d94eaa86-7d7e-4158-aead-46f614baa796');\n",
              "          const dataTable =\n",
              "            await google.colab.kernel.invokeFunction('convertToInteractive',\n",
              "                                                     [key], {});\n",
              "          if (!dataTable) return;\n",
              "\n",
              "          const docLinkHtml = 'Like what you see? Visit the ' +\n",
              "            '<a target=\"_blank\" href=https://colab.research.google.com/notebooks/data_table.ipynb>data table notebook</a>'\n",
              "            + ' to learn more about interactive tables.';\n",
              "          element.innerHTML = '';\n",
              "          dataTable['output_type'] = 'display_data';\n",
              "          await google.colab.output.renderOutput(dataTable, element);\n",
              "          const docLink = document.createElement('div');\n",
              "          docLink.innerHTML = docLinkHtml;\n",
              "          element.appendChild(docLink);\n",
              "        }\n",
              "      </script>\n",
              "    </div>\n",
              "  </div>\n",
              "  "
            ],
            "text/plain": [
              "                   open         high          low  ...     adjclose   volume  ticker\n",
              "2015-01-02   312.579987   314.750000   306.959991  ...   308.519989  2783200    AMZN\n",
              "2015-01-05   307.010010   308.380005   300.850006  ...   302.190002  2774200    AMZN\n",
              "2015-01-06   302.239990   303.000000   292.380005  ...   295.290009  3519000    AMZN\n",
              "2015-01-07   297.500000   301.279999   295.329987  ...   298.420013  2640300    AMZN\n",
              "2015-01-08   300.320007   303.140015   296.109985  ...   300.459991  3088400    AMZN\n",
              "...                 ...          ...          ...  ...          ...      ...     ...\n",
              "2021-12-31  3379.120117  3387.000000  3331.169922  ...  3334.340088  2387300    AMZN\n",
              "2022-01-03  3351.000000  3414.070068  3323.209961  ...  3408.090088  3176000    AMZN\n",
              "2022-01-04  3408.760010  3428.000000  3326.989990  ...  3350.439941  3536300    AMZN\n",
              "2022-01-05  3337.659912  3342.530029  3287.139893  ...  3287.139893  3215100    AMZN\n",
              "2022-01-06  3269.010010  3296.000000  3238.739990  ...  3265.080078  2597900    AMZN\n",
              "\n",
              "[1767 rows x 7 columns]"
            ]
          },
          "metadata": {},
          "execution_count": 16
        }
      ]
    },
    {
      "cell_type": "markdown",
      "source": [
        "Impute the missing data with the median data "
      ],
      "metadata": {
        "id": "AaM-iMtuN4gN"
      }
    },
    {
      "cell_type": "code",
      "source": [
        "prices[np.isnan(prices)] = np.median(prices[~np.isnan(prices)])"
      ],
      "metadata": {
        "colab": {
          "base_uri": "https://localhost:8080/"
        },
        "id": "Luq7qzlJOCql",
        "outputId": "69491d29-d5dd-44d4-a21f-268d93dd0d1f"
      },
      "execution_count": 17,
      "outputs": [
        {
          "output_type": "stream",
          "name": "stderr",
          "text": [
            "/usr/local/lib/python3.7/dist-packages/ipykernel_launcher.py:1: SettingWithCopyWarning: \n",
            "A value is trying to be set on a copy of a slice from a DataFrame\n",
            "\n",
            "See the caveats in the documentation: https://pandas.pydata.org/pandas-docs/stable/user_guide/indexing.html#returning-a-view-versus-a-copy\n",
            "  \"\"\"Entry point for launching an IPython kernel.\n"
          ]
        }
      ]
    },
    {
      "cell_type": "markdown",
      "source": [
        "Plot the original data"
      ],
      "metadata": {
        "id": "oLAOd2UKQEF5"
      }
    },
    {
      "cell_type": "code",
      "source": [
        "plt.plot(stock_data['close'], label = 'Close Price History')\n",
        "plt.title('Linear Regression | Time vs Price | Original Data | '+ticker)\n",
        "plt.legend()\n",
        "plt.xlabel('Date (as integers)')\n",
        "plt.show()"
      ],
      "metadata": {
        "colab": {
          "base_uri": "https://localhost:8080/",
          "height": 295
        },
        "id": "bs__0JomQBs4",
        "outputId": "bdb9198c-0dc6-4f49-c078-797d766c29fa"
      },
      "execution_count": 18,
      "outputs": [
        {
          "output_type": "display_data",
          "data": {
            "image/png": "[encoded data removed]",
            "text/plain": [
              "<Figure size 432x288 with 1 Axes>"
            ]
          },
          "metadata": {
            "needs_background": "light"
          }
        }
      ]
    },
    {
      "cell_type": "markdown",
      "source": [
        "Convert dates and prices to numpy array"
      ],
      "metadata": {
        "id": "gQUlbdGLTsmf"
      }
    },
    {
      "cell_type": "code",
      "source": [
        "dates = np.asanyarray(dates)\n",
        "prices = np.asanyarray(prices)\n",
        "dates = np.reshape(dates,(len(dates), 1))\n",
        "prices = np.reshape(prices,(len(prices), 1))"
      ],
      "metadata": {
        "id": "QxL7pY31Trqf"
      },
      "execution_count": 19,
      "outputs": []
    },
    {
      "cell_type": "markdown",
      "source": [
        "Get previous model accuracy - Load pickle file"
      ],
      "metadata": {
        "id": "lUYBrGBrdSLz"
      }
    },
    {
      "cell_type": "code",
      "source": [
        "try:\n",
        "  pick_in = pickle.open('prediction.pickle', 'rb')\n",
        "  reg = pickle.load(pick_in)\n",
        "  xtrain, xtest, ytrain, ytest = train_test_split(dates, prices, test_size=0.2)\n",
        "  best = reg.score(ytrain, ytest)\n",
        "except:\n",
        "  pass"
      ],
      "metadata": {
        "id": "z_JebIAOdRNn"
      },
      "execution_count": 20,
      "outputs": []
    },
    {
      "cell_type": "markdown",
      "source": [
        "Get the best accuracy model"
      ],
      "metadata": {
        "id": "p0Hejc75hUNr"
      }
    },
    {
      "cell_type": "code",
      "source": [
        "best = 0\n",
        "for _ in range(100):\n",
        "  xtrain, xtest, ytrain, ytest = train_test_split(dates, prices, test_size = 0.2)\n",
        "  reg = LinearRegression().fit(xtrain, ytrain)\n",
        "  acc = reg.score(xtest, ytest)\n",
        "  if acc > best:\n",
        "    best = acc\n",
        "    #Save model as pickle file\n",
        "    with open('prediction.pickle', 'wb') as f:\n",
        "      pickle.dump(reg, f)\n",
        "    print(acc)"
      ],
      "metadata": {
        "colab": {
          "base_uri": "https://localhost:8080/"
        },
        "id": "f8cm5AA2fXvu",
        "outputId": "13522f34-ffae-4f48-94b1-455648de3056"
      },
      "execution_count": 21,
      "outputs": [
        {
          "output_type": "stream",
          "name": "stdout",
          "text": [
            "0.9263984089877264\n",
            "0.9268856409577317\n",
            "0.927297422775169\n",
            "0.9297659021573204\n",
            "0.931334238912116\n"
          ]
        }
      ]
    },
    {
      "cell_type": "markdown",
      "source": [
        "Load the regression model"
      ],
      "metadata": {
        "id": "YciSTGV-hZYW"
      }
    },
    {
      "cell_type": "code",
      "source": [
        "pick_in = open('prediction.pickle','rb')\n",
        "reg = pickle.load(pick_in)"
      ],
      "metadata": {
        "id": "Wil8AJXfhd-J"
      },
      "execution_count": 22,
      "outputs": []
    },
    {
      "cell_type": "markdown",
      "source": [
        "Find average accuracy"
      ],
      "metadata": {
        "id": "T2bKtvTbhpUE"
      }
    },
    {
      "cell_type": "code",
      "source": [
        "mean = 0\n",
        "for i in range(10):\n",
        "  msk = np.random.rand(len(stock_data)) < 0.8\n",
        "  xtest = dates[~msk]\n",
        "  ytest = prices[~msk]\n",
        "  mean += reg.score(xtest, ytest)\n",
        "\n",
        "print(\"Average Accuracy: \", mean/10)"
      ],
      "metadata": {
        "colab": {
          "base_uri": "https://localhost:8080/"
        },
        "id": "CJ4tzn1MhrGC",
        "outputId": "67d24eff-7846-45cf-b713-bca153c4f071"
      },
      "execution_count": 23,
      "outputs": [
        {
          "output_type": "stream",
          "name": "stdout",
          "text": [
            "Average Accuracy:  0.9221836689587223\n"
          ]
        }
      ]
    },
    {
      "cell_type": "markdown",
      "source": [
        "Get the number of days after which the user wants to predict the stock price"
      ],
      "metadata": {
        "id": "nnOIyHENVXIm"
      }
    },
    {
      "cell_type": "code",
      "source": [
        "noOfDays = int(input('Enter the number of days after which you wish to predict the stock price(Max value: 365):'))\n",
        "if noOfDays > 365:\n",
        "  print(\"Error: Invalid input - Max number of days is 365. Giving results using default value = 365\")\n",
        "  noOfDays = 365\n",
        "elif noOfDays < 0:\n",
        "  print(\"Error: Invalid input - Min number of days is 0. Giving results using default value = 365\")\n",
        "  noOfDays = 365"
      ],
      "metadata": {
        "colab": {
          "base_uri": "https://localhost:8080/"
        },
        "id": "QCgPNlZDV0gX",
        "outputId": "eb4c880a-f7b1-4c7d-b83e-0e88606954bf"
      },
      "execution_count": 31,
      "outputs": [
        {
          "output_type": "stream",
          "name": "stdout",
          "text": [
            "Enter the number of days after which you wish to predict the stock price(Max value: 365):366\n",
            "Error: Invalid input - Max number of days is 365. Giving results using default value = 365\n"
          ]
        }
      ]
    },
    {
      "cell_type": "markdown",
      "source": [
        "Predict stock price"
      ],
      "metadata": {
        "id": "cCqGPOTbkabN"
      }
    },
    {
      "cell_type": "code",
      "source": [
        "predicted_price = reg.predict(np.array([[int(len(dates)+noOfDays)]]))\n",
        "for i in predicted_price:\n",
        "  for j in i:\n",
        "    print(\"Expected stock price after\", noOfDays, \" days is:\", j)"
      ],
      "metadata": {
        "colab": {
          "base_uri": "https://localhost:8080/"
        },
        "id": "wIJ0tPzXkec4",
        "outputId": "1fd26207-eec3-4c3e-cfe8-6dd6b381f1e2"
      },
      "execution_count": 35,
      "outputs": [
        {
          "output_type": "stream",
          "name": "stdout",
          "text": [
            "Expected stock price after 365  days is: 4024.8691737447025\n"
          ]
        }
      ]
    },
    {
      "cell_type": "markdown",
      "source": [
        "Plot the expected and actual values"
      ],
      "metadata": {
        "id": "3F2TdxncriOj"
      }
    },
    {
      "cell_type": "code",
      "source": [
        "plt.plot(xtest, ytest, color='green',linewidth=1, label= 'Actual Price') #plotting the initial datapoints\n",
        "plt.plot(xtest, reg.predict(xtest), color='blue', linewidth=3, label = 'Predicted Price') #plotting the line made by linear regression\n",
        "plt.title('Linear Regression | Time vs. Price ')\n",
        "plt.legend()\n",
        "plt.xlabel('Date Integer')\n",
        "plt.show()"
      ],
      "metadata": {
        "colab": {
          "base_uri": "https://localhost:8080/",
          "height": 295
        },
        "id": "0hyLFGa3rf_u",
        "outputId": "ce89f9a2-4e66-4cd0-9938-6b40f5a9a6d8"
      },
      "execution_count": 36,
      "outputs": [
        {
          "output_type": "display_data",
          "data": {
            "image/png": "[encoded data removed]",
            "text/plain": [
              "<Figure size 432x288 with 1 Axes>"
            ]
          },
          "metadata": {
            "needs_background": "light"
          }
        }
      ]
    }
  ]
}